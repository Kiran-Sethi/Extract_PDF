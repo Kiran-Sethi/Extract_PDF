{
  "nbformat": 4,
  "nbformat_minor": 0,
  "metadata": {
    "colab": {
      "provenance": [],
      "collapsed_sections": []
    },
    "kernelspec": {
      "name": "python3",
      "display_name": "Python 3"
    },
    "language_info": {
      "name": "python"
    }
  },
  "cells": [
    {
      "cell_type": "code",
      "source": [
        "import pandas as pd\n",
        "!pip install PyPDF2\n",
        "import os\n",
        "import re\n"
      ],
      "metadata": {
        "colab": {
          "base_uri": "https://localhost:8080/"
        },
        "id": "7G9d09j9S1pt",
        "outputId": "70b4dc43-008e-498b-a9bf-b47d9ac28b7e"
      },
      "execution_count": null,
      "outputs": [
        {
          "output_type": "stream",
          "name": "stdout",
          "text": [
            "Looking in indexes: https://pypi.org/simple, https://us-python.pkg.dev/colab-wheels/public/simple/\n",
            "Requirement already satisfied: PyPDF2 in /usr/local/lib/python3.7/dist-packages (2.10.2)\n",
            "Requirement already satisfied: typing-extensions in /usr/local/lib/python3.7/dist-packages (from PyPDF2) (4.1.1)\n"
          ]
        }
      ]
    },
    {
      "cell_type": "code",
      "source": [
        "data_path='/content/drive/MyDrive/data'\n"
      ],
      "metadata": {
        "id": "BVYdBEVtT9RN"
      },
      "execution_count": null,
      "outputs": []
    },
    {
      "cell_type": "markdown",
      "source": [
        "A Python script which takes a Digital PDF document, and returns total number of\n",
        "paragraphs in it, also prints each of the paragraph.This is done using the PyPDF2 library."
      ],
      "metadata": {
        "id": "drfX2_zTRAMl"
      }
    },
    {
      "cell_type": "markdown",
      "source": [
        "1. To identify paragraphs , text splitted over sentence ending punctuation mark '?/./!' followed by line break.\n",
        "2. paragraph not starting with capital letters are discarded as bad paragraph.\n",
        "\n",
        "3. paragraph continuing over page breaks are considered accordingly.\n"
      ],
      "metadata": {
        "id": "fgYEcq6u2MYe"
      }
    },
    {
      "cell_type": "code",
      "source": [
        "import PyPDF2\n",
        "pdfObject = open(os.path.join(data_path,\"testing_doc_count_para.pdf\"), 'rb')\n",
        "\n",
        "pdfRead = PyPDF2.PdfFileReader(pdfObject)\n",
        "pageCount=pdfRead.numPages\n",
        "i=0\n",
        "complete_para=[]\n",
        "total_para=[] ## total paragraphs of all pages \n",
        "page_break=[] ##paragraph index corresponding to the page break\n",
        "\n",
        "while i<pageCount:\n",
        "  pageObj = pdfRead.getPage(i)\n",
        "  texts=pageObj.extractText()\n",
        "  paragraphs=re.split(r\"[.!?]\\n\",texts)\n",
        "  \n",
        "  page_break.append(len(total_para)+len(paragraphs)-1)\n",
        "  for para in paragraphs:\n",
        "   total_para.append(para)\n",
        " \n",
        "  i+=1\n",
        "\n",
        "if len(total_para)-1 in page_break:\n",
        "  page_break.remove(len(total_para)-1)\n",
        "\n",
        "\n",
        "### checking if the page break correponds to incomplete passages\n",
        "index=0\n",
        "while index< len(total_para):\n",
        "    para=total_para[index]\n",
        "     ## starts with caps lock and end with sentence end delimiter : ? or ! or .\n",
        "    if index not in page_break:\n",
        "       if para[0].isupper():\n",
        "            complete_para.append(para)\n",
        "\n",
        "    else:\n",
        "     ## check next para starts with caps letter , if not then concat last page last para and next page first para\n",
        "      next_para=total_para[index+1]\n",
        "      if next_para[0].isupper():\n",
        "          complete_para.append(para)\n",
        "\n",
        "      else:\n",
        "        complete_para.append(para+next_para)  \n",
        "        index+=1  \n",
        "  \n",
        "\n",
        "    index+=1\n",
        "\n",
        "   \n",
        "    \n",
        "print(\"total paragraphs in the document\\n\",len(complete_para))\n",
        "for para in complete_para:\n",
        "  print(para,\"\\n\")\n",
        "\n",
        "pdfObject.close()\n"
      ],
      "metadata": {
        "colab": {
          "base_uri": "https://localhost:8080/"
        },
        "id": "OqcMFTz1eslH",
        "outputId": "c2075989-34aa-4b9a-95db-09db8f11a39e"
      },
      "execution_count": null,
      "outputs": [
        {
          "output_type": "stream",
          "name": "stdout",
          "text": [
            "total paragraphs in the document\n",
            " 4\n",
            "Lorem ipsum dolor sit amet, consectetur adipiscing\n",
            "elit, sed do eiusmod tempor incididunt ut labore et\n",
            "dolore magna aliqua. Ut enim ad minim veniam, quis\n",
            "nostrud exercitation ullamco laboris nisi ut aliquip ex\n",
            "ea commodo consequat. Duis aute irure dolor in\n",
            "reprehenderit in voluptate velit esse cillum dolore eu\n",
            "fugiat nulla pariatur. Excepteur sint occaecat\n",
            "cupidatat non proident, sunt in culpa qui officia\n",
            "deserunt mollit anim id est laborum \n",
            "\n",
            "Lorem ipsum dolor sit amet, consectetur adipiscing\n",
            "elit, sed do eiusmod tempor incididunt ut labore et\n",
            "dolore magna aliqua. Ut enim ad minim veniam, quis\n",
            "nostrud exercitation ullamco laboris nisi ut aliquip ex\n",
            "ea commodo consequat. Duis aute irure dolor in\n",
            "reprehenderit in voluptate velit esse cillum dolore eu\n",
            "fugiat nulla pariatur. Excepteur sint occaecat\n",
            "cupidatat non proident, sunt in culpa qui officia\n",
            "deserunt mollit anim id est laborum \n",
            "\n",
            "Lorem ipsum dolor sit amet, consectetur adipiscing\n",
            "elit, sed do eiusmod tempor incididunt ut labore et\n",
            "dolore magna aliqua. Ut enim ad minim veniam, quis\n",
            "nostrud exercitation ullamco laboris nisi ut aliquip ex\n",
            "ea commodo consequat. Duis aute irure dolor inreprehenderit in voluptate velit esse cillum dolore eu\n",
            "fugiat nulla pariatur. Excepteur sint occaecat\n",
            "cupidatat non proident, sunt in culpa qui officia\n",
            "deserunt mollit anim id est laborum \n",
            "\n",
            "Lorem ipsum dolor sit amet, consectetur adipiscing\n",
            "elit, sed do eiusmod tempor incididunt ut labore et\n",
            "dolore magna aliqua. Ut enim ad minim veniam, quis\n",
            "nostrud exercitation ullamco laboris nisi ut aliquip ex\n",
            "ea commodo consequat. \n",
            "\n"
          ]
        }
      ]
    },
    {
      "cell_type": "markdown",
      "source": [
        "A Python script which takes a Digital PDF document, and returns total number of\n",
        "tables in it, also prints each of the table."
      ],
      "metadata": {
        "id": "pi1wjvwJSuRC"
      }
    },
    {
      "cell_type": "code",
      "source": [
        "!pip install ghostscript\n",
        "!pip install camelot-py\n"
      ],
      "metadata": {
        "id": "I_eBogoMESVC"
      },
      "execution_count": null,
      "outputs": []
    },
    {
      "cell_type": "code",
      "source": [
        "\n",
        "from camelot import read_pdf\n",
        "\n",
        "# Get all the tables within the file\n",
        "table_path=os.path.join(data_path,\"test_table_extract_v1.pdf\")\n",
        "my_tables = read_pdf(table_path, pages = 'all')\n",
        "\n",
        "# Show the total number of tables in the file\n",
        "print(\"Total number of table: {}\".format(my_tables.n))\n",
        "\n",
        "# print all the tables in the file\n",
        "for table in range(my_tables.n):\n",
        "    print((my_tables[table].df).head())"
      ],
      "metadata": {
        "colab": {
          "base_uri": "https://localhost:8080/"
        },
        "id": "7HLtk-eF6VMw",
        "outputId": "c7439e56-3844-428c-8f7d-55345aabc5c1"
      },
      "execution_count": null,
      "outputs": [
        {
          "output_type": "stream",
          "name": "stdout",
          "text": [
            "Total number of table: 2\n",
            "      0      1     2\n",
            "0  Name  Class  Roll\n",
            "1     A    1st    11\n",
            "2     B    2nd    12\n",
            "3     C    3rd    13\n",
            "      0    1\n",
            "0  Name  Age\n",
            "1     X   23\n",
            "2     Y   42\n",
            "3     Z   56\n"
          ]
        }
      ]
    }
  ]
}